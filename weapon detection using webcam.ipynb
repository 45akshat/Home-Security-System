{
 "cells": [
  {
   "cell_type": "code",
   "execution_count": 1,
   "id": "c75a1092",
   "metadata": {},
   "outputs": [],
   "source": [
    "from ultralytics import YOLO"
   ]
  },
  {
   "cell_type": "code",
   "execution_count": 2,
   "id": "de4e7cb3",
   "metadata": {},
   "outputs": [],
   "source": [
    "import cv2"
   ]
  },
  {
   "cell_type": "code",
   "execution_count": 3,
   "id": "b9e66e84",
   "metadata": {},
   "outputs": [],
   "source": [
    "model=YOLO(\"yolov8s.pt\")"
   ]
  },
  {
   "cell_type": "code",
   "execution_count": null,
   "id": "3530f349",
   "metadata": {},
   "outputs": [
    {
     "name": "stderr",
     "output_type": "stream",
     "text": [
      "Ultralytics YOLOv8.0.0  Python-3.10.13 torch-2.2.1+cpu CPU\n",
      "Fusing layers... \n",
      "YOLOv8s summary: 168 layers, 11156544 parameters, 0 gradients, 28.6 GFLOPs\n",
      "WARNING  Environment does not support cv2.imshow() or PIL Image.show()\n",
      "\n",
      "1/1: 0...  Success (inf frames 640x480 at 30.00 FPS)\n",
      "\n",
      "0: 480x640 2 persons, 2 chairs, 1 remote, 269.6ms\n",
      "0: 480x640 2 persons, 1 chair, 1 remote, 220.7ms\n",
      "0: 480x640 2 persons, 1 chair, 1 remote, 222.4ms\n",
      "0: 480x640 2 persons, 1 chair, 1 remote, 211.7ms\n",
      "0: 480x640 2 persons, 2 chairs, 1 remote, 216.7ms\n",
      "0: 480x640 2 persons, 2 chairs, 208.4ms\n",
      "0: 480x640 2 persons, 1 chair, 201.0ms\n",
      "0: 480x640 2 persons, 1 chair, 203.1ms\n",
      "0: 480x640 1 person, 3 chairs, 195.9ms\n",
      "0: 480x640 2 persons, 1 chair, 204.7ms\n",
      "0: 480x640 2 persons, 2 chairs, 205.6ms\n",
      "0: 480x640 2 persons, 1 chair, 215.0ms\n",
      "0: 480x640 2 persons, 1 chair, 215.4ms\n",
      "0: 480x640 2 persons, 1 chair, 220.1ms\n",
      "0: 480x640 2 persons, 2 chairs, 193.1ms\n",
      "0: 480x640 2 persons, 3 chairs, 209.1ms\n",
      "0: 480x640 2 persons, 1 chair, 196.8ms\n",
      "0: 480x640 2 persons, 1 chair, 202.8ms\n",
      "0: 480x640 2 persons, 1 chair, 206.2ms\n",
      "0: 480x640 2 persons, 2 chairs, 200.2ms\n",
      "0: 480x640 2 persons, 2 chairs, 210.8ms\n"
     ]
    }
   ],
   "source": [
    "results=model.predict(source=\"0\", show=True)"
   ]
  },
  {
   "cell_type": "code",
   "execution_count": null,
   "id": "c1034f58",
   "metadata": {},
   "outputs": [],
   "source": [
    "print(results)"
   ]
  }
 ],
 "metadata": {
  "kernelspec": {
   "display_name": "Python 3 (ipykernel)",
   "language": "python",
   "name": "python3"
  },
  "language_info": {
   "codemirror_mode": {
    "name": "ipython",
    "version": 3
   },
   "file_extension": ".py",
   "mimetype": "text/x-python",
   "name": "python",
   "nbconvert_exporter": "python",
   "pygments_lexer": "ipython3",
   "version": "3.10.13"
  }
 },
 "nbformat": 4,
 "nbformat_minor": 5
}
